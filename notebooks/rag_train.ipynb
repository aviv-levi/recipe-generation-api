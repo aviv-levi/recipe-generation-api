{
 "cells": [
  {
   "cell_type": "markdown",
   "id": "21a1ab29",
   "metadata": {},
   "source": [
    "### Data Preparation Notebook"
   ]
  },
  {
   "cell_type": "code",
   "execution_count": 19,
   "id": "0d0480e5",
   "metadata": {},
   "outputs": [],
   "source": [
    "import datasets\n",
    "from transformers import DPRContextEncoder, DPRContextEncoderTokenizer\n",
    "import faiss"
   ]
  },
  {
   "cell_type": "markdown",
   "id": "f0eb40aa",
   "metadata": {},
   "source": [
    "#### Loading tokenizer & model"
   ]
  },
  {
   "cell_type": "code",
   "execution_count": 11,
   "id": "7ea3739b",
   "metadata": {},
   "outputs": [
    {
     "name": "stderr",
     "output_type": "stream",
     "text": [
      "The tokenizer class you load from this checkpoint is not the same type as the class this function is called from. It may result in unexpected tokenization. \n",
      "The tokenizer class you load from this checkpoint is 'DPRQuestionEncoderTokenizer'. \n",
      "The class this function is called from is 'DPRContextEncoderTokenizer'.\n",
      "Some weights of the model checkpoint at facebook/dpr-ctx_encoder-multiset-base were not used when initializing DPRContextEncoder: ['ctx_encoder.bert_model.pooler.dense.bias', 'ctx_encoder.bert_model.pooler.dense.weight']\n",
      "- This IS expected if you are initializing DPRContextEncoder from the checkpoint of a model trained on another task or with another architecture (e.g. initializing a BertForSequenceClassification model from a BertForPreTraining model).\n",
      "- This IS NOT expected if you are initializing DPRContextEncoder from the checkpoint of a model that you expect to be exactly identical (initializing a BertForSequenceClassification model from a BertForSequenceClassification model).\n"
     ]
    }
   ],
   "source": [
    "tokenizer = DPRContextEncoderTokenizer.from_pretrained('facebook/dpr-ctx_encoder-multiset-base')\n",
    "model = DPRContextEncoder.from_pretrained('facebook/dpr-ctx_encoder-multiset-base')"
   ]
  },
  {
   "cell_type": "markdown",
   "id": "cdd77c59",
   "metadata": {},
   "source": [
    "#### Loading recipes dataset"
   ]
  },
  {
   "cell_type": "code",
   "execution_count": 12,
   "id": "e811c05c",
   "metadata": {},
   "outputs": [
    {
     "name": "stderr",
     "output_type": "stream",
     "text": [
      "Repo card metadata block was not found. Setting CardData to empty.\n"
     ]
    }
   ],
   "source": [
    "dataset = datasets.load_dataset(\"m3hrdadfi/recipe_nlg_lite\")"
   ]
  },
  {
   "cell_type": "markdown",
   "id": "8c89198b",
   "metadata": {},
   "source": [
    "#### Extracting the recipe guides column"
   ]
  },
  {
   "cell_type": "code",
   "execution_count": 13,
   "id": "7df2321c",
   "metadata": {},
   "outputs": [],
   "source": [
    "recipes = [entry['steps'] for entry in dataset['train']]"
   ]
  },
  {
   "cell_type": "markdown",
   "id": "2d93d3a6",
   "metadata": {},
   "source": [
    "#### Encoding receipes into vectors"
   ]
  },
  {
   "cell_type": "code",
   "execution_count": 14,
   "id": "1051e41c",
   "metadata": {},
   "outputs": [
    {
     "data": {
      "text/plain": [
       "100"
      ]
     },
     "execution_count": 14,
     "metadata": {},
     "output_type": "execute_result"
    }
   ],
   "source": [
    "# cut recipes\n",
    "recipes = recipes[:100]\n",
    "len(recipes)"
   ]
  },
  {
   "cell_type": "code",
   "execution_count": 15,
   "id": "1367c82c",
   "metadata": {},
   "outputs": [],
   "source": [
    "def encode_recipes(recipes):\n",
    "    inputs = tokenizer(recipes, return_tensors='pt', padding=True, truncation=True, max_length=512)\n",
    "    embeddings = model(**inputs).pooler_output\n",
    "    return embeddings.detach().numpy()"
   ]
  },
  {
   "cell_type": "code",
   "execution_count": 16,
   "id": "53a1fbee",
   "metadata": {},
   "outputs": [],
   "source": [
    "embeddings = encode_recipes(recipes)"
   ]
  },
  {
   "cell_type": "markdown",
   "id": "0958e55b",
   "metadata": {},
   "source": [
    "#### Creating IndexFlatL2 with the embedeed recipes"
   ]
  },
  {
   "cell_type": "code",
   "execution_count": 20,
   "id": "9639f333",
   "metadata": {},
   "outputs": [],
   "source": [
    "index = faiss.IndexFlatL2(embeddings.shape[1])\n",
    "index.add(embeddings)"
   ]
  },
  {
   "cell_type": "markdown",
   "id": "40ee4ecb",
   "metadata": {},
   "source": [
    "#### Saving locally index & dataset for Production"
   ]
  },
  {
   "cell_type": "code",
   "execution_count": 21,
   "id": "3ad4d033",
   "metadata": {},
   "outputs": [
    {
     "name": "stderr",
     "output_type": "stream",
     "text": [
      "Saving the dataset (1/1 shards): 100%|████████████████████████████████████| 6118/6118 [00:01<00:00, 3513.67 examples/s]\n",
      "Saving the dataset (1/1 shards): 100%|████████████████████████████████████| 1080/1080 [00:00<00:00, 3632.58 examples/s]\n"
     ]
    }
   ],
   "source": [
    "faiss.write_index(index, \"recipes_index.idx\")\n",
    "dataset.save_to_disk('dataset')"
   ]
  }
 ],
 "metadata": {
  "kernelspec": {
   "display_name": "recipevenv",
   "language": "python",
   "name": "recipevenv"
  },
  "language_info": {
   "codemirror_mode": {
    "name": "ipython",
    "version": 3
   },
   "file_extension": ".py",
   "mimetype": "text/x-python",
   "name": "python",
   "nbconvert_exporter": "python",
   "pygments_lexer": "ipython3",
   "version": "3.10.5"
  }
 },
 "nbformat": 4,
 "nbformat_minor": 5
}
